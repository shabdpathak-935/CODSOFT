{
 "cells": [
  {
   "cell_type": "code",
   "execution_count": 1,
   "id": "b79e6d7e-6e04-49f3-aa81-6e28b5dd7f77",
   "metadata": {},
   "outputs": [],
   "source": [
    "import pandas as pd\n",
    "import numpy as np\n",
    "import matplotlib.pyplot as plt\n",
    "import seaborn as sns"
   ]
  },
  {
   "cell_type": "code",
   "execution_count": 2,
   "id": "f05ce898-c15d-47b2-84d8-ddae68119c70",
   "metadata": {},
   "outputs": [],
   "source": [
    "train_data = pd.read_csv('../Codes - Datasets/fraudTrain.csv')\n",
    "test_data = pd.read_csv('../Codes - Datasets/fraudTest.csv')"
   ]
  },
  {
   "cell_type": "code",
   "execution_count": 3,
   "id": "0a9150f5-d547-43d4-a77f-486a1ae99c8d",
   "metadata": {},
   "outputs": [],
   "source": [
    "train_data.drop(['Unnamed: 0'], axis = 1, inplace = True)\n",
    "test_data.drop(['Unnamed: 0'], axis = 1, inplace = True)"
   ]
  },
  {
   "cell_type": "code",
   "execution_count": 4,
   "id": "096d7d78-acc6-457c-90e4-fde8c3dfac4b",
   "metadata": {},
   "outputs": [
    {
     "data": {
      "text/html": [
       "<div>\n",
       "<style scoped>\n",
       "    .dataframe tbody tr th:only-of-type {\n",
       "        vertical-align: middle;\n",
       "    }\n",
       "\n",
       "    .dataframe tbody tr th {\n",
       "        vertical-align: top;\n",
       "    }\n",
       "\n",
       "    .dataframe thead th {\n",
       "        text-align: right;\n",
       "    }\n",
       "</style>\n",
       "<table border=\"1\" class=\"dataframe\">\n",
       "  <thead>\n",
       "    <tr style=\"text-align: right;\">\n",
       "      <th></th>\n",
       "      <th>trans_date_trans_time</th>\n",
       "      <th>cc_num</th>\n",
       "      <th>merchant</th>\n",
       "      <th>category</th>\n",
       "      <th>amt</th>\n",
       "      <th>first</th>\n",
       "      <th>last</th>\n",
       "      <th>gender</th>\n",
       "      <th>street</th>\n",
       "      <th>city</th>\n",
       "      <th>...</th>\n",
       "      <th>lat</th>\n",
       "      <th>long</th>\n",
       "      <th>city_pop</th>\n",
       "      <th>job</th>\n",
       "      <th>dob</th>\n",
       "      <th>trans_num</th>\n",
       "      <th>unix_time</th>\n",
       "      <th>merch_lat</th>\n",
       "      <th>merch_long</th>\n",
       "      <th>is_fraud</th>\n",
       "    </tr>\n",
       "  </thead>\n",
       "  <tbody>\n",
       "    <tr>\n",
       "      <th>0</th>\n",
       "      <td>2019-01-01 00:00:18</td>\n",
       "      <td>2703186189652095</td>\n",
       "      <td>fraud_Rippin, Kub and Mann</td>\n",
       "      <td>misc_net</td>\n",
       "      <td>4.97</td>\n",
       "      <td>Jennifer</td>\n",
       "      <td>Banks</td>\n",
       "      <td>F</td>\n",
       "      <td>561 Perry Cove</td>\n",
       "      <td>Moravian Falls</td>\n",
       "      <td>...</td>\n",
       "      <td>36.0788</td>\n",
       "      <td>-81.1781</td>\n",
       "      <td>3495</td>\n",
       "      <td>Psychologist, counselling</td>\n",
       "      <td>1988-03-09</td>\n",
       "      <td>0b242abb623afc578575680df30655b9</td>\n",
       "      <td>1325376018</td>\n",
       "      <td>36.011293</td>\n",
       "      <td>-82.048315</td>\n",
       "      <td>0</td>\n",
       "    </tr>\n",
       "    <tr>\n",
       "      <th>1</th>\n",
       "      <td>2019-01-01 00:00:44</td>\n",
       "      <td>630423337322</td>\n",
       "      <td>fraud_Heller, Gutmann and Zieme</td>\n",
       "      <td>grocery_pos</td>\n",
       "      <td>107.23</td>\n",
       "      <td>Stephanie</td>\n",
       "      <td>Gill</td>\n",
       "      <td>F</td>\n",
       "      <td>43039 Riley Greens Suite 393</td>\n",
       "      <td>Orient</td>\n",
       "      <td>...</td>\n",
       "      <td>48.8878</td>\n",
       "      <td>-118.2105</td>\n",
       "      <td>149</td>\n",
       "      <td>Special educational needs teacher</td>\n",
       "      <td>1978-06-21</td>\n",
       "      <td>1f76529f8574734946361c461b024d99</td>\n",
       "      <td>1325376044</td>\n",
       "      <td>49.159047</td>\n",
       "      <td>-118.186462</td>\n",
       "      <td>0</td>\n",
       "    </tr>\n",
       "    <tr>\n",
       "      <th>2</th>\n",
       "      <td>2019-01-01 00:00:51</td>\n",
       "      <td>38859492057661</td>\n",
       "      <td>fraud_Lind-Buckridge</td>\n",
       "      <td>entertainment</td>\n",
       "      <td>220.11</td>\n",
       "      <td>Edward</td>\n",
       "      <td>Sanchez</td>\n",
       "      <td>M</td>\n",
       "      <td>594 White Dale Suite 530</td>\n",
       "      <td>Malad City</td>\n",
       "      <td>...</td>\n",
       "      <td>42.1808</td>\n",
       "      <td>-112.2620</td>\n",
       "      <td>4154</td>\n",
       "      <td>Nature conservation officer</td>\n",
       "      <td>1962-01-19</td>\n",
       "      <td>a1a22d70485983eac12b5b88dad1cf95</td>\n",
       "      <td>1325376051</td>\n",
       "      <td>43.150704</td>\n",
       "      <td>-112.154481</td>\n",
       "      <td>0</td>\n",
       "    </tr>\n",
       "    <tr>\n",
       "      <th>3</th>\n",
       "      <td>2019-01-01 00:01:16</td>\n",
       "      <td>3534093764340240</td>\n",
       "      <td>fraud_Kutch, Hermiston and Farrell</td>\n",
       "      <td>gas_transport</td>\n",
       "      <td>45.00</td>\n",
       "      <td>Jeremy</td>\n",
       "      <td>White</td>\n",
       "      <td>M</td>\n",
       "      <td>9443 Cynthia Court Apt. 038</td>\n",
       "      <td>Boulder</td>\n",
       "      <td>...</td>\n",
       "      <td>46.2306</td>\n",
       "      <td>-112.1138</td>\n",
       "      <td>1939</td>\n",
       "      <td>Patent attorney</td>\n",
       "      <td>1967-01-12</td>\n",
       "      <td>6b849c168bdad6f867558c3793159a81</td>\n",
       "      <td>1325376076</td>\n",
       "      <td>47.034331</td>\n",
       "      <td>-112.561071</td>\n",
       "      <td>0</td>\n",
       "    </tr>\n",
       "    <tr>\n",
       "      <th>4</th>\n",
       "      <td>2019-01-01 00:03:06</td>\n",
       "      <td>375534208663984</td>\n",
       "      <td>fraud_Keeling-Crist</td>\n",
       "      <td>misc_pos</td>\n",
       "      <td>41.96</td>\n",
       "      <td>Tyler</td>\n",
       "      <td>Garcia</td>\n",
       "      <td>M</td>\n",
       "      <td>408 Bradley Rest</td>\n",
       "      <td>Doe Hill</td>\n",
       "      <td>...</td>\n",
       "      <td>38.4207</td>\n",
       "      <td>-79.4629</td>\n",
       "      <td>99</td>\n",
       "      <td>Dance movement psychotherapist</td>\n",
       "      <td>1986-03-28</td>\n",
       "      <td>a41d7549acf90789359a9aa5346dcb46</td>\n",
       "      <td>1325376186</td>\n",
       "      <td>38.674999</td>\n",
       "      <td>-78.632459</td>\n",
       "      <td>0</td>\n",
       "    </tr>\n",
       "  </tbody>\n",
       "</table>\n",
       "<p>5 rows × 22 columns</p>\n",
       "</div>"
      ],
      "text/plain": [
       "  trans_date_trans_time            cc_num                            merchant  \\\n",
       "0   2019-01-01 00:00:18  2703186189652095          fraud_Rippin, Kub and Mann   \n",
       "1   2019-01-01 00:00:44      630423337322     fraud_Heller, Gutmann and Zieme   \n",
       "2   2019-01-01 00:00:51    38859492057661                fraud_Lind-Buckridge   \n",
       "3   2019-01-01 00:01:16  3534093764340240  fraud_Kutch, Hermiston and Farrell   \n",
       "4   2019-01-01 00:03:06   375534208663984                 fraud_Keeling-Crist   \n",
       "\n",
       "        category     amt      first     last gender  \\\n",
       "0       misc_net    4.97   Jennifer    Banks      F   \n",
       "1    grocery_pos  107.23  Stephanie     Gill      F   \n",
       "2  entertainment  220.11     Edward  Sanchez      M   \n",
       "3  gas_transport   45.00     Jeremy    White      M   \n",
       "4       misc_pos   41.96      Tyler   Garcia      M   \n",
       "\n",
       "                         street            city  ...      lat      long  \\\n",
       "0                561 Perry Cove  Moravian Falls  ...  36.0788  -81.1781   \n",
       "1  43039 Riley Greens Suite 393          Orient  ...  48.8878 -118.2105   \n",
       "2      594 White Dale Suite 530      Malad City  ...  42.1808 -112.2620   \n",
       "3   9443 Cynthia Court Apt. 038         Boulder  ...  46.2306 -112.1138   \n",
       "4              408 Bradley Rest        Doe Hill  ...  38.4207  -79.4629   \n",
       "\n",
       "   city_pop                                job         dob  \\\n",
       "0      3495          Psychologist, counselling  1988-03-09   \n",
       "1       149  Special educational needs teacher  1978-06-21   \n",
       "2      4154        Nature conservation officer  1962-01-19   \n",
       "3      1939                    Patent attorney  1967-01-12   \n",
       "4        99     Dance movement psychotherapist  1986-03-28   \n",
       "\n",
       "                          trans_num   unix_time  merch_lat  merch_long  \\\n",
       "0  0b242abb623afc578575680df30655b9  1325376018  36.011293  -82.048315   \n",
       "1  1f76529f8574734946361c461b024d99  1325376044  49.159047 -118.186462   \n",
       "2  a1a22d70485983eac12b5b88dad1cf95  1325376051  43.150704 -112.154481   \n",
       "3  6b849c168bdad6f867558c3793159a81  1325376076  47.034331 -112.561071   \n",
       "4  a41d7549acf90789359a9aa5346dcb46  1325376186  38.674999  -78.632459   \n",
       "\n",
       "   is_fraud  \n",
       "0         0  \n",
       "1         0  \n",
       "2         0  \n",
       "3         0  \n",
       "4         0  \n",
       "\n",
       "[5 rows x 22 columns]"
      ]
     },
     "execution_count": 4,
     "metadata": {},
     "output_type": "execute_result"
    }
   ],
   "source": [
    "train_data.head()"
   ]
  },
  {
   "cell_type": "code",
   "execution_count": 5,
   "id": "f46538ba-6e28-4f78-9799-7d0801750183",
   "metadata": {},
   "outputs": [
    {
     "data": {
      "text/html": [
       "<div>\n",
       "<style scoped>\n",
       "    .dataframe tbody tr th:only-of-type {\n",
       "        vertical-align: middle;\n",
       "    }\n",
       "\n",
       "    .dataframe tbody tr th {\n",
       "        vertical-align: top;\n",
       "    }\n",
       "\n",
       "    .dataframe thead th {\n",
       "        text-align: right;\n",
       "    }\n",
       "</style>\n",
       "<table border=\"1\" class=\"dataframe\">\n",
       "  <thead>\n",
       "    <tr style=\"text-align: right;\">\n",
       "      <th></th>\n",
       "      <th>cc_num</th>\n",
       "      <th>amt</th>\n",
       "      <th>zip</th>\n",
       "      <th>lat</th>\n",
       "      <th>long</th>\n",
       "      <th>city_pop</th>\n",
       "      <th>unix_time</th>\n",
       "      <th>merch_lat</th>\n",
       "      <th>merch_long</th>\n",
       "      <th>is_fraud</th>\n",
       "    </tr>\n",
       "  </thead>\n",
       "  <tbody>\n",
       "    <tr>\n",
       "      <th>count</th>\n",
       "      <td>1.296675e+06</td>\n",
       "      <td>1.296675e+06</td>\n",
       "      <td>1.296675e+06</td>\n",
       "      <td>1.296675e+06</td>\n",
       "      <td>1.296675e+06</td>\n",
       "      <td>1.296675e+06</td>\n",
       "      <td>1.296675e+06</td>\n",
       "      <td>1.296675e+06</td>\n",
       "      <td>1.296675e+06</td>\n",
       "      <td>1.296675e+06</td>\n",
       "    </tr>\n",
       "    <tr>\n",
       "      <th>mean</th>\n",
       "      <td>4.171920e+17</td>\n",
       "      <td>7.035104e+01</td>\n",
       "      <td>4.880067e+04</td>\n",
       "      <td>3.853762e+01</td>\n",
       "      <td>-9.022634e+01</td>\n",
       "      <td>8.882444e+04</td>\n",
       "      <td>1.349244e+09</td>\n",
       "      <td>3.853734e+01</td>\n",
       "      <td>-9.022646e+01</td>\n",
       "      <td>5.788652e-03</td>\n",
       "    </tr>\n",
       "    <tr>\n",
       "      <th>std</th>\n",
       "      <td>1.308806e+18</td>\n",
       "      <td>1.603160e+02</td>\n",
       "      <td>2.689322e+04</td>\n",
       "      <td>5.075808e+00</td>\n",
       "      <td>1.375908e+01</td>\n",
       "      <td>3.019564e+05</td>\n",
       "      <td>1.284128e+07</td>\n",
       "      <td>5.109788e+00</td>\n",
       "      <td>1.377109e+01</td>\n",
       "      <td>7.586269e-02</td>\n",
       "    </tr>\n",
       "    <tr>\n",
       "      <th>min</th>\n",
       "      <td>6.041621e+10</td>\n",
       "      <td>1.000000e+00</td>\n",
       "      <td>1.257000e+03</td>\n",
       "      <td>2.002710e+01</td>\n",
       "      <td>-1.656723e+02</td>\n",
       "      <td>2.300000e+01</td>\n",
       "      <td>1.325376e+09</td>\n",
       "      <td>1.902779e+01</td>\n",
       "      <td>-1.666712e+02</td>\n",
       "      <td>0.000000e+00</td>\n",
       "    </tr>\n",
       "    <tr>\n",
       "      <th>25%</th>\n",
       "      <td>1.800429e+14</td>\n",
       "      <td>9.650000e+00</td>\n",
       "      <td>2.623700e+04</td>\n",
       "      <td>3.462050e+01</td>\n",
       "      <td>-9.679800e+01</td>\n",
       "      <td>7.430000e+02</td>\n",
       "      <td>1.338751e+09</td>\n",
       "      <td>3.473357e+01</td>\n",
       "      <td>-9.689728e+01</td>\n",
       "      <td>0.000000e+00</td>\n",
       "    </tr>\n",
       "    <tr>\n",
       "      <th>50%</th>\n",
       "      <td>3.521417e+15</td>\n",
       "      <td>4.752000e+01</td>\n",
       "      <td>4.817400e+04</td>\n",
       "      <td>3.935430e+01</td>\n",
       "      <td>-8.747690e+01</td>\n",
       "      <td>2.456000e+03</td>\n",
       "      <td>1.349250e+09</td>\n",
       "      <td>3.936568e+01</td>\n",
       "      <td>-8.743839e+01</td>\n",
       "      <td>0.000000e+00</td>\n",
       "    </tr>\n",
       "    <tr>\n",
       "      <th>75%</th>\n",
       "      <td>4.642255e+15</td>\n",
       "      <td>8.314000e+01</td>\n",
       "      <td>7.204200e+04</td>\n",
       "      <td>4.194040e+01</td>\n",
       "      <td>-8.015800e+01</td>\n",
       "      <td>2.032800e+04</td>\n",
       "      <td>1.359385e+09</td>\n",
       "      <td>4.195716e+01</td>\n",
       "      <td>-8.023680e+01</td>\n",
       "      <td>0.000000e+00</td>\n",
       "    </tr>\n",
       "    <tr>\n",
       "      <th>max</th>\n",
       "      <td>4.992346e+18</td>\n",
       "      <td>2.894890e+04</td>\n",
       "      <td>9.978300e+04</td>\n",
       "      <td>6.669330e+01</td>\n",
       "      <td>-6.795030e+01</td>\n",
       "      <td>2.906700e+06</td>\n",
       "      <td>1.371817e+09</td>\n",
       "      <td>6.751027e+01</td>\n",
       "      <td>-6.695090e+01</td>\n",
       "      <td>1.000000e+00</td>\n",
       "    </tr>\n",
       "  </tbody>\n",
       "</table>\n",
       "</div>"
      ],
      "text/plain": [
       "             cc_num           amt           zip           lat          long  \\\n",
       "count  1.296675e+06  1.296675e+06  1.296675e+06  1.296675e+06  1.296675e+06   \n",
       "mean   4.171920e+17  7.035104e+01  4.880067e+04  3.853762e+01 -9.022634e+01   \n",
       "std    1.308806e+18  1.603160e+02  2.689322e+04  5.075808e+00  1.375908e+01   \n",
       "min    6.041621e+10  1.000000e+00  1.257000e+03  2.002710e+01 -1.656723e+02   \n",
       "25%    1.800429e+14  9.650000e+00  2.623700e+04  3.462050e+01 -9.679800e+01   \n",
       "50%    3.521417e+15  4.752000e+01  4.817400e+04  3.935430e+01 -8.747690e+01   \n",
       "75%    4.642255e+15  8.314000e+01  7.204200e+04  4.194040e+01 -8.015800e+01   \n",
       "max    4.992346e+18  2.894890e+04  9.978300e+04  6.669330e+01 -6.795030e+01   \n",
       "\n",
       "           city_pop     unix_time     merch_lat    merch_long      is_fraud  \n",
       "count  1.296675e+06  1.296675e+06  1.296675e+06  1.296675e+06  1.296675e+06  \n",
       "mean   8.882444e+04  1.349244e+09  3.853734e+01 -9.022646e+01  5.788652e-03  \n",
       "std    3.019564e+05  1.284128e+07  5.109788e+00  1.377109e+01  7.586269e-02  \n",
       "min    2.300000e+01  1.325376e+09  1.902779e+01 -1.666712e+02  0.000000e+00  \n",
       "25%    7.430000e+02  1.338751e+09  3.473357e+01 -9.689728e+01  0.000000e+00  \n",
       "50%    2.456000e+03  1.349250e+09  3.936568e+01 -8.743839e+01  0.000000e+00  \n",
       "75%    2.032800e+04  1.359385e+09  4.195716e+01 -8.023680e+01  0.000000e+00  \n",
       "max    2.906700e+06  1.371817e+09  6.751027e+01 -6.695090e+01  1.000000e+00  "
      ]
     },
     "execution_count": 5,
     "metadata": {},
     "output_type": "execute_result"
    }
   ],
   "source": [
    "train_data.describe()"
   ]
  },
  {
   "cell_type": "code",
   "execution_count": 6,
   "id": "f7b00d5e-07a3-4970-81be-a13fee69303c",
   "metadata": {},
   "outputs": [
    {
     "data": {
      "text/plain": [
       "(1296675, 22)"
      ]
     },
     "execution_count": 6,
     "metadata": {},
     "output_type": "execute_result"
    }
   ],
   "source": [
    "train_data.shape"
   ]
  },
  {
   "cell_type": "code",
   "execution_count": 7,
   "id": "a0f1e673-83f0-447d-86d1-1d7056077d64",
   "metadata": {},
   "outputs": [
    {
     "data": {
      "text/plain": [
       "(555719, 22)"
      ]
     },
     "execution_count": 7,
     "metadata": {},
     "output_type": "execute_result"
    }
   ],
   "source": [
    "test_data.shape"
   ]
  },
  {
   "cell_type": "code",
   "execution_count": 8,
   "id": "a8548c31-e025-4c17-b8a2-3a988c202fc7",
   "metadata": {},
   "outputs": [
    {
     "data": {
      "text/plain": [
       "is_fraud\n",
       "0    1289169\n",
       "1       7506\n",
       "Name: count, dtype: int64"
      ]
     },
     "execution_count": 8,
     "metadata": {},
     "output_type": "execute_result"
    }
   ],
   "source": [
    "train_data['is_fraud'].value_counts()"
   ]
  },
  {
   "cell_type": "code",
   "execution_count": 9,
   "id": "3615dc6a-bafd-45a7-9f61-1f46b58d0c66",
   "metadata": {},
   "outputs": [
    {
     "data": {
      "text/plain": [
       "np.int64(0)"
      ]
     },
     "execution_count": 9,
     "metadata": {},
     "output_type": "execute_result"
    }
   ],
   "source": [
    "train_data.duplicated().sum()"
   ]
  },
  {
   "cell_type": "code",
   "execution_count": 10,
   "id": "928ecdac-8f11-4b06-8f88-f06d42c13c29",
   "metadata": {
    "scrolled": true
   },
   "outputs": [
    {
     "name": "stdout",
     "output_type": "stream",
     "text": [
      "<class 'pandas.core.frame.DataFrame'>\n",
      "RangeIndex: 1296675 entries, 0 to 1296674\n",
      "Data columns (total 22 columns):\n",
      " #   Column                 Non-Null Count    Dtype  \n",
      "---  ------                 --------------    -----  \n",
      " 0   trans_date_trans_time  1296675 non-null  object \n",
      " 1   cc_num                 1296675 non-null  int64  \n",
      " 2   merchant               1296675 non-null  object \n",
      " 3   category               1296675 non-null  object \n",
      " 4   amt                    1296675 non-null  float64\n",
      " 5   first                  1296675 non-null  object \n",
      " 6   last                   1296675 non-null  object \n",
      " 7   gender                 1296675 non-null  object \n",
      " 8   street                 1296675 non-null  object \n",
      " 9   city                   1296675 non-null  object \n",
      " 10  state                  1296675 non-null  object \n",
      " 11  zip                    1296675 non-null  int64  \n",
      " 12  lat                    1296675 non-null  float64\n",
      " 13  long                   1296675 non-null  float64\n",
      " 14  city_pop               1296675 non-null  int64  \n",
      " 15  job                    1296675 non-null  object \n",
      " 16  dob                    1296675 non-null  object \n",
      " 17  trans_num              1296675 non-null  object \n",
      " 18  unix_time              1296675 non-null  int64  \n",
      " 19  merch_lat              1296675 non-null  float64\n",
      " 20  merch_long             1296675 non-null  float64\n",
      " 21  is_fraud               1296675 non-null  int64  \n",
      "dtypes: float64(5), int64(5), object(12)\n",
      "memory usage: 217.6+ MB\n"
     ]
    }
   ],
   "source": [
    "train_data.info()"
   ]
  },
  {
   "cell_type": "code",
   "execution_count": 11,
   "id": "b18dd9ba-7f1b-495c-8e6d-3b2167d479b4",
   "metadata": {},
   "outputs": [],
   "source": [
    "#obj_columns"
   ]
  },
  {
   "cell_type": "markdown",
   "id": "47c8d472-92f1-4289-a8e0-3e78f14a5974",
   "metadata": {},
   "source": [
    " # #1 - Exploratory Data Analysis"
   ]
  },
  {
   "cell_type": "code",
   "execution_count": 12,
   "id": "0e6e4a29-34c6-48cc-b63b-122f4a746d45",
   "metadata": {},
   "outputs": [
    {
     "data": {
      "text/plain": [
       "<Axes: xlabel='is_fraud', ylabel='count'>"
      ]
     },
     "execution_count": 12,
     "metadata": {},
     "output_type": "execute_result"
    },
    {
     "data": {
      "image/png": "[encoded data removed]",
      "text/plain": [
       "<Figure size 640x480 with 1 Axes>"
      ]
     },
     "metadata": {},
     "output_type": "display_data"
    }
   ],
   "source": [
    "sns.countplot( x ='is_fraud', data = train_data, hue = 'is_fraud')"
   ]
  },
  {
   "cell_type": "markdown",
   "id": "9703893a-c6b5-44a5-b00a-f705b59619a7",
   "metadata": {},
   "source": [
    "#### Its an Highly Imbalanced Dataset since fraud transaction is too low"
   ]
  },
  {
   "cell_type": "code",
   "execution_count": 13,
   "id": "74cbb61b-465e-4918-ba28-22b1f3925cbd",
   "metadata": {},
   "outputs": [
    {
     "data": {
      "text/plain": [
       "<Axes: >"
      ]
     },
     "execution_count": 13,
     "metadata": {},
     "output_type": "execute_result"
    },
    {
     "data": {
      "image/png": "[encoded data removed]",
      "text/plain": [
       "<Figure size 640x480 with 2 Axes>"
      ]
     },
     "metadata": {},
     "output_type": "display_data"
    }
   ],
   "source": [
    "sns.heatmap(train_data.corr(numeric_only = True),  cmap='coolwarm')"
   ]
  },
  {
   "cell_type": "markdown",
   "id": "34141933-0219-4a41-8f97-8c0d07f4979e",
   "metadata": {},
   "source": [
    "### Here we can see that merch_lat and lat are highly correlated and the same is with merch_long and long"
   ]
  },
  {
   "cell_type": "markdown",
   "id": "4ee6e36d-80e4-45f6-b62c-cefaf3c973cb",
   "metadata": {},
   "source": [
    "# #2 - Feature Engineering"
   ]
  },
  {
   "cell_type": "code",
   "execution_count": 14,
   "id": "0c34cf0e-e79d-435c-8520-bc753ca80a09",
   "metadata": {},
   "outputs": [
    {
     "data": {
      "text/html": [
       "<div>\n",
       "<style scoped>\n",
       "    .dataframe tbody tr th:only-of-type {\n",
       "        vertical-align: middle;\n",
       "    }\n",
       "\n",
       "    .dataframe tbody tr th {\n",
       "        vertical-align: top;\n",
       "    }\n",
       "\n",
       "    .dataframe thead th {\n",
       "        text-align: right;\n",
       "    }\n",
       "</style>\n",
       "<table border=\"1\" class=\"dataframe\">\n",
       "  <thead>\n",
       "    <tr style=\"text-align: right;\">\n",
       "      <th></th>\n",
       "      <th>trans_date_trans_time</th>\n",
       "      <th>cc_num</th>\n",
       "      <th>merchant</th>\n",
       "      <th>category</th>\n",
       "      <th>amt</th>\n",
       "      <th>first</th>\n",
       "      <th>last</th>\n",
       "      <th>gender</th>\n",
       "      <th>street</th>\n",
       "      <th>city</th>\n",
       "      <th>...</th>\n",
       "      <th>lat</th>\n",
       "      <th>long</th>\n",
       "      <th>city_pop</th>\n",
       "      <th>job</th>\n",
       "      <th>dob</th>\n",
       "      <th>trans_num</th>\n",
       "      <th>unix_time</th>\n",
       "      <th>merch_lat</th>\n",
       "      <th>merch_long</th>\n",
       "      <th>is_fraud</th>\n",
       "    </tr>\n",
       "  </thead>\n",
       "  <tbody>\n",
       "    <tr>\n",
       "      <th>0</th>\n",
       "      <td>2019-01-01 00:00:18</td>\n",
       "      <td>2703186189652095</td>\n",
       "      <td>fraud_Rippin, Kub and Mann</td>\n",
       "      <td>misc_net</td>\n",
       "      <td>4.97</td>\n",
       "      <td>Jennifer</td>\n",
       "      <td>Banks</td>\n",
       "      <td>F</td>\n",
       "      <td>561 Perry Cove</td>\n",
       "      <td>Moravian Falls</td>\n",
       "      <td>...</td>\n",
       "      <td>36.0788</td>\n",
       "      <td>-81.1781</td>\n",
       "      <td>3495</td>\n",
       "      <td>Psychologist, counselling</td>\n",
       "      <td>1988-03-09</td>\n",
       "      <td>0b242abb623afc578575680df30655b9</td>\n",
       "      <td>1325376018</td>\n",
       "      <td>36.011293</td>\n",
       "      <td>-82.048315</td>\n",
       "      <td>0</td>\n",
       "    </tr>\n",
       "    <tr>\n",
       "      <th>1</th>\n",
       "      <td>2019-01-01 00:00:44</td>\n",
       "      <td>630423337322</td>\n",
       "      <td>fraud_Heller, Gutmann and Zieme</td>\n",
       "      <td>grocery_pos</td>\n",
       "      <td>107.23</td>\n",
       "      <td>Stephanie</td>\n",
       "      <td>Gill</td>\n",
       "      <td>F</td>\n",
       "      <td>43039 Riley Greens Suite 393</td>\n",
       "      <td>Orient</td>\n",
       "      <td>...</td>\n",
       "      <td>48.8878</td>\n",
       "      <td>-118.2105</td>\n",
       "      <td>149</td>\n",
       "      <td>Special educational needs teacher</td>\n",
       "      <td>1978-06-21</td>\n",
       "      <td>1f76529f8574734946361c461b024d99</td>\n",
       "      <td>1325376044</td>\n",
       "      <td>49.159047</td>\n",
       "      <td>-118.186462</td>\n",
       "      <td>0</td>\n",
       "    </tr>\n",
       "  </tbody>\n",
       "</table>\n",
       "<p>2 rows × 22 columns</p>\n",
       "</div>"
      ],
      "text/plain": [
       "  trans_date_trans_time            cc_num                         merchant  \\\n",
       "0   2019-01-01 00:00:18  2703186189652095       fraud_Rippin, Kub and Mann   \n",
       "1   2019-01-01 00:00:44      630423337322  fraud_Heller, Gutmann and Zieme   \n",
       "\n",
       "      category     amt      first   last gender                        street  \\\n",
       "0     misc_net    4.97   Jennifer  Banks      F                561 Perry Cove   \n",
       "1  grocery_pos  107.23  Stephanie   Gill      F  43039 Riley Greens Suite 393   \n",
       "\n",
       "             city  ...      lat      long  city_pop  \\\n",
       "0  Moravian Falls  ...  36.0788  -81.1781      3495   \n",
       "1          Orient  ...  48.8878 -118.2105       149   \n",
       "\n",
       "                                 job         dob  \\\n",
       "0          Psychologist, counselling  1988-03-09   \n",
       "1  Special educational needs teacher  1978-06-21   \n",
       "\n",
       "                          trans_num   unix_time  merch_lat  merch_long  \\\n",
       "0  0b242abb623afc578575680df30655b9  1325376018  36.011293  -82.048315   \n",
       "1  1f76529f8574734946361c461b024d99  1325376044  49.159047 -118.186462   \n",
       "\n",
       "   is_fraud  \n",
       "0         0  \n",
       "1         0  \n",
       "\n",
       "[2 rows x 22 columns]"
      ]
     },
     "execution_count": 14,
     "metadata": {},
     "output_type": "execute_result"
    }
   ],
   "source": [
    "train_data.head(2)"
   ]
  },
  {
   "cell_type": "markdown",
   "id": "2bc6379e-c88a-4968-b9ee-5dae005c19a5",
   "metadata": {},
   "source": [
    "### Columns to drop - first, last, lat, long, unix_time, trans_num"
   ]
  },
  {
   "cell_type": "code",
   "execution_count": 15,
   "id": "de7333e3-61eb-49d8-8bf9-35b71f619d1c",
   "metadata": {},
   "outputs": [],
   "source": [
    "train_data['trans_date_trans_time'] = pd.to_datetime(train_data['trans_date_trans_time'])\n",
    "test_data['trans_date_trans_time'] = pd.to_datetime(test_data['trans_date_trans_time'])"
   ]
  },
  {
   "cell_type": "code",
   "execution_count": 16,
   "id": "2b5ea76a-b1d9-4f2b-9296-0a46e72e9da5",
   "metadata": {},
   "outputs": [],
   "source": [
    "train_data['hour'] = train_data['trans_date_trans_time'].dt.hour\n",
    "train_data['day'] = train_data['trans_date_trans_time'].dt.day\n",
    "train_data['month'] = train_data['trans_date_trans_time'].dt.month\n",
    "train_data['birth_year'] = pd.to_datetime(train_data['dob']).dt.year\n",
    "\n",
    "test_data['hour'] = test_data['trans_date_trans_time'].dt.hour\n",
    "test_data['day'] = test_data['trans_date_trans_time'].dt.day\n",
    "test_data['month'] = test_data['trans_date_trans_time'].dt.month\n",
    "test_data['birth_year'] = pd.to_datetime(test_data['dob']).dt.year\n",
    "\n",
    "train_data['age_category'] = train_data['birth_year'].apply(lambda x: 'Young' if x >= 1990 else 'Middle_Age' if x >= 1970 else 'Older')\n",
    "test_data['age_category'] = test_data['birth_year'].apply(lambda x: 'Young' if x >= 1990 else 'Middle_Age' if x >= 1970 else 'Older')"
   ]
  },
  {
   "cell_type": "code",
   "execution_count": 17,
   "id": "aafe3cfe-9b15-4416-8ce3-056344b3a9a6",
   "metadata": {},
   "outputs": [],
   "source": [
    "train_data[['hour', 'day', 'month']] = train_data[['hour', 'day', 'month']].astype('object')"
   ]
  },
  {
   "cell_type": "code",
   "execution_count": 18,
   "id": "9b9d8f11-73d1-4779-8643-dc009485d44c",
   "metadata": {},
   "outputs": [],
   "source": [
    "train_data['day'] = np.where(train_data['day'] >= 5, 'Weekend', 'Weekday')\n",
    "test_data['day'] = np.where(test_data['day'] >= 5, 'Weekend', 'Weekday')\n",
    "\n",
    "train_data['hour'] = np.where(train_data['hour'].between(6, 18), 'Day', 'Night')\n",
    "test_data['hour'] = np.where(test_data['hour'].between(6, 18), 'Day', 'Night')\n",
    "\n",
    "train_data['month'] = np.where(train_data['month'] <= 6, 'First_Half', 'Second_Half')\n",
    "test_data['month'] = np.where(test_data['month'] <= 6, 'First_Half', 'Second_Half')\n",
    "\n",
    "train_data['merchant_category'] = train_data['merchant'].map(train_data['merchant'].value_counts()).apply(lambda x: 'High_Volume_Merchant' if x >= 3000 else 'Medium_Volume_Merchant' if x >= 1500 else 'Low_Volume_Merchant' if x >= 500 else 'Very_Low_Volume_Merchant')\n",
    "\n",
    "test_data['merchant_category'] = test_data['merchant'].map(train_data['merchant'].value_counts()).fillna(0).apply(lambda x: 'High_Volume_Merchant' if x >= 3000 else 'Medium_Volume_Merchant' if x >= 1500 else 'Low_Volume_Merchant' if x >= 500 else 'Very_Low_Volume_Merchant')\n",
    "\n",
    "train_data['gender_encoded'] = train_data['gender'].map({'F': 0, 'M': 1})\n",
    "test_data['gender_encoded'] = test_data['gender'].map({'F': 0, 'M': 1})"
   ]
  },
  {
   "cell_type": "code",
   "execution_count": 19,
   "id": "c78ff5b8-c082-45f4-9b29-16a73cf68593",
   "metadata": {},
   "outputs": [],
   "source": [
    "city_fraud_rates = train_data.groupby('city')['is_fraud'].mean()\n",
    "train_data['city_fraud_rate'] = train_data['city'].map(city_fraud_rates)\n",
    "city_fraud_rates = test_data.groupby('city')['is_fraud'].mean()\n",
    "test_data['city_fraud_rate'] = test_data['city'].map(city_fraud_rates)\n",
    "\n",
    "state_fraud_rates = train_data.groupby('state')['is_fraud'].mean() \n",
    "train_data['state_fraud_rate'] = train_data['state'].map(state_fraud_rates)\n",
    "state_fraud_rates = test_data.groupby('state')['is_fraud'].mean() \n",
    "test_data['state_fraud_rate'] = test_data['state'].map(state_fraud_rates)"
   ]
  },
  {
   "cell_type": "code",
   "execution_count": 20,
   "id": "c9169658-31aa-4814-8873-3d5cfa84fa22",
   "metadata": {},
   "outputs": [],
   "source": [
    "train_cat_dummies = pd.get_dummies(train_data['category'], prefix='cat',dtype='int', drop_first=True )\n",
    "test_cat_dummies = pd.get_dummies(test_data['category'], prefix='cat', drop_first=True, dtype='int')\n",
    "\n",
    "\n",
    "train_cat_dummies, test_cat_dummies = train_cat_dummies.align(test_cat_dummies, join='left', axis=1, fill_value=0)\n",
    "\n",
    "\n",
    "train_data = pd.concat([train_data, train_cat_dummies], axis=1)\n",
    "test_data = pd.concat([test_data, test_cat_dummies], axis=1)"
   ]
  },
  {
   "cell_type": "code",
   "execution_count": 21,
   "id": "aff79b5a-4b8d-4201-b6f6-4a55e5f52bde",
   "metadata": {},
   "outputs": [],
   "source": [
    "train_data.drop(columns = ['merchant', 'gender','job','street', 'first', 'last','category', 'lat','state', 'city', 'long', 'unix_time', 'trans_num', 'trans_date_trans_time', 'dob', 'birth_year'], inplace = True, axis = 1)\n",
    "test_data.drop(columns = ['merchant', 'gender','job','street', 'first', 'last','category', 'lat', 'state', 'city', 'long', 'unix_time', 'trans_num', 'trans_date_trans_time', 'dob', 'birth_year'], inplace = True, axis = 1)"
   ]
  },
  {
   "cell_type": "code",
   "execution_count": 23,
   "id": "b1c23ba7-31c4-488a-9398-312aa614e9ce",
   "metadata": {},
   "outputs": [
    {
     "data": {
      "text/plain": [
       "(1296675, 28)"
      ]
     },
     "execution_count": 23,
     "metadata": {},
     "output_type": "execute_result"
    }
   ],
   "source": [
    "train_data.shape"
   ]
  },
  {
   "cell_type": "code",
   "execution_count": 45,
   "id": "fe2315b2-e889-4d9d-a134-34c4c71abb31",
   "metadata": {
    "scrolled": true
   },
   "outputs": [
    {
     "name": "stdout",
     "output_type": "stream",
     "text": [
      "\n",
      "Value counts for hour:\n",
      "hour\n",
      "Day      711620\n",
      "Night    585055\n",
      "Name: count, dtype: int64\n",
      "\n",
      "Value counts for day:\n",
      "day\n",
      "Weekend    1121517\n",
      "Weekday     175158\n",
      "Name: count, dtype: int64\n",
      "\n",
      "Value counts for month:\n",
      "month\n",
      "First_Half     771829\n",
      "Second_Half    524846\n",
      "Name: count, dtype: int64\n",
      "\n",
      "Value counts for age_category:\n",
      "age_category\n",
      "Middle_Age    596357\n",
      "Older         462820\n",
      "Young         237498\n",
      "Name: count, dtype: int64\n",
      "\n",
      "Value counts for merchant_category:\n",
      "merchant_category\n",
      "Medium_Volume_Merchant    1127340\n",
      "Low_Volume_Merchant        147212\n",
      "High_Volume_Merchant        22123\n",
      "Name: count, dtype: int64\n"
     ]
    }
   ],
   "source": [
    "columns = train_data.columns\n",
    "obj_columns = []\n",
    "for feature in columns:\n",
    "    if train_data[feature].dtype == 'object':\n",
    "        obj_columns.append(feature)\n",
    "        print(f\"\\nValue counts for {feature}:\")\n",
    "        print(train_data[feature].value_counts())"
   ]
  },
  {
   "cell_type": "code",
   "execution_count": 46,
   "id": "ccd2c66b-d2e3-4457-8a0e-12c5e60f01ff",
   "metadata": {},
   "outputs": [],
   "source": [
    "from sklearn.compose import ColumnTransformer\n",
    "from sklearn.preprocessing import OneHotEncoder\n",
    "\n",
    "transformer = ColumnTransformer(transformers=[\n",
    "    ('ohe', OneHotEncoder(sparse_output=False, drop='first'), ['hour', 'day', 'month', 'age_category', 'merchant_category'])\n",
    "], remainder='passthrough')"
   ]
  },
  {
   "cell_type": "code",
   "execution_count": 47,
   "id": "7429fec5-42d0-4cac-8405-88b7b402bcb2",
   "metadata": {},
   "outputs": [],
   "source": [
    "train_1 = transformer.fit_transform(train_data)\n",
    "test_1 = transformer.transform(test_data)"
   ]
  },
  {
   "cell_type": "code",
   "execution_count": 48,
   "id": "8ddf9ea3-0777-4d8b-9aca-f7a790bd10b5",
   "metadata": {
    "jupyter": {
     "source_hidden": true
    }
   },
   "outputs": [],
   "source": [
    "columns = [\n",
    "'hour_night',\n",
    "'day_weekend',\n",
    "'month_second_half',\n",
    "'age_older',\n",
    "'age_young',\n",
    "'Low_Volume_Merchant',\n",
    "'High_Volume_Merchant',    \n",
    "'cc_num',\n",
    " 'amt',\n",
    " 'zip',\n",
    " 'city_pop',\n",
    " 'merch_lat',\n",
    " 'merch_long',\n",
    " 'is_fraud',\n",
    " 'gender_encoded',\n",
    " 'city_fraud_rate',\n",
    " 'state_fraud_rate',\n",
    " 'cat_food_dining',\n",
    " 'cat_gas_transport',\n",
    " 'cat_grocery_net',\n",
    " 'cat_grocery_pos',\n",
    " 'cat_health_fitness',\n",
    " 'cat_home',\n",
    " 'cat_kids_pets',\n",
    " 'cat_misc_net',\n",
    " 'cat_misc_pos',\n",
    " 'cat_personal_care',\n",
    " 'cat_shopping_net',\n",
    " 'cat_shopping_pos',\n",
    " 'cat_travel'\n",
    "]"
   ]
  },
  {
   "cell_type": "code",
   "execution_count": 49,
   "id": "85a2496c-18c4-48c8-9950-d4b718303643",
   "metadata": {},
   "outputs": [],
   "source": [
    "train_1 = pd.DataFrame(train_1, columns=columns)"
   ]
  },
  {
   "cell_type": "code",
   "execution_count": 50,
   "id": "6cf29a7d-9e43-4bfc-ba2a-e1fb0d8e0704",
   "metadata": {},
   "outputs": [],
   "source": [
    "test_1 = pd.DataFrame(test_1, columns=columns)"
   ]
  },
  {
   "cell_type": "code",
   "execution_count": 51,
   "id": "2b612c69-3d68-47c3-9b05-934db6e45950",
   "metadata": {},
   "outputs": [
    {
     "data": {
      "text/plain": [
       "(1296675, 30)"
      ]
     },
     "execution_count": 51,
     "metadata": {},
     "output_type": "execute_result"
    }
   ],
   "source": [
    "train_1.shape"
   ]
  },
  {
   "cell_type": "code",
   "execution_count": 52,
   "id": "158eef1f-9fa0-49e8-b9b2-179bf19ce812",
   "metadata": {},
   "outputs": [
    {
     "data": {
      "text/html": [
       "<div>\n",
       "<style scoped>\n",
       "    .dataframe tbody tr th:only-of-type {\n",
       "        vertical-align: middle;\n",
       "    }\n",
       "\n",
       "    .dataframe tbody tr th {\n",
       "        vertical-align: top;\n",
       "    }\n",
       "\n",
       "    .dataframe thead th {\n",
       "        text-align: right;\n",
       "    }\n",
       "</style>\n",
       "<table border=\"1\" class=\"dataframe\">\n",
       "  <thead>\n",
       "    <tr style=\"text-align: right;\">\n",
       "      <th></th>\n",
       "      <th>hour_night</th>\n",
       "      <th>day_weekend</th>\n",
       "      <th>month_second_half</th>\n",
       "      <th>age_older</th>\n",
       "      <th>age_young</th>\n",
       "      <th>Low_Volume_Merchant</th>\n",
       "      <th>High_Volume_Merchant</th>\n",
       "      <th>cc_num</th>\n",
       "      <th>amt</th>\n",
       "      <th>zip</th>\n",
       "      <th>...</th>\n",
       "      <th>cat_grocery_pos</th>\n",
       "      <th>cat_health_fitness</th>\n",
       "      <th>cat_home</th>\n",
       "      <th>cat_kids_pets</th>\n",
       "      <th>cat_misc_net</th>\n",
       "      <th>cat_misc_pos</th>\n",
       "      <th>cat_personal_care</th>\n",
       "      <th>cat_shopping_net</th>\n",
       "      <th>cat_shopping_pos</th>\n",
       "      <th>cat_travel</th>\n",
       "    </tr>\n",
       "  </thead>\n",
       "  <tbody>\n",
       "    <tr>\n",
       "      <th>0</th>\n",
       "      <td>0.0</td>\n",
       "      <td>1.0</td>\n",
       "      <td>0.0</td>\n",
       "      <td>1.0</td>\n",
       "      <td>0.0</td>\n",
       "      <td>0.0</td>\n",
       "      <td>1.0</td>\n",
       "      <td>2.291164e+15</td>\n",
       "      <td>2.86</td>\n",
       "      <td>29209.0</td>\n",
       "      <td>...</td>\n",
       "      <td>0.0</td>\n",
       "      <td>0.0</td>\n",
       "      <td>0.0</td>\n",
       "      <td>0.0</td>\n",
       "      <td>0.0</td>\n",
       "      <td>0.0</td>\n",
       "      <td>1.0</td>\n",
       "      <td>0.0</td>\n",
       "      <td>0.0</td>\n",
       "      <td>0.0</td>\n",
       "    </tr>\n",
       "    <tr>\n",
       "      <th>1</th>\n",
       "      <td>0.0</td>\n",
       "      <td>1.0</td>\n",
       "      <td>0.0</td>\n",
       "      <td>0.0</td>\n",
       "      <td>1.0</td>\n",
       "      <td>0.0</td>\n",
       "      <td>1.0</td>\n",
       "      <td>3.573030e+15</td>\n",
       "      <td>29.84</td>\n",
       "      <td>84002.0</td>\n",
       "      <td>...</td>\n",
       "      <td>0.0</td>\n",
       "      <td>0.0</td>\n",
       "      <td>0.0</td>\n",
       "      <td>0.0</td>\n",
       "      <td>0.0</td>\n",
       "      <td>0.0</td>\n",
       "      <td>1.0</td>\n",
       "      <td>0.0</td>\n",
       "      <td>0.0</td>\n",
       "      <td>0.0</td>\n",
       "    </tr>\n",
       "    <tr>\n",
       "      <th>2</th>\n",
       "      <td>0.0</td>\n",
       "      <td>1.0</td>\n",
       "      <td>0.0</td>\n",
       "      <td>0.0</td>\n",
       "      <td>0.0</td>\n",
       "      <td>0.0</td>\n",
       "      <td>1.0</td>\n",
       "      <td>3.598215e+15</td>\n",
       "      <td>41.28</td>\n",
       "      <td>11710.0</td>\n",
       "      <td>...</td>\n",
       "      <td>0.0</td>\n",
       "      <td>1.0</td>\n",
       "      <td>0.0</td>\n",
       "      <td>0.0</td>\n",
       "      <td>0.0</td>\n",
       "      <td>0.0</td>\n",
       "      <td>0.0</td>\n",
       "      <td>0.0</td>\n",
       "      <td>0.0</td>\n",
       "      <td>0.0</td>\n",
       "    </tr>\n",
       "    <tr>\n",
       "      <th>3</th>\n",
       "      <td>0.0</td>\n",
       "      <td>1.0</td>\n",
       "      <td>0.0</td>\n",
       "      <td>0.0</td>\n",
       "      <td>0.0</td>\n",
       "      <td>0.0</td>\n",
       "      <td>1.0</td>\n",
       "      <td>3.591920e+15</td>\n",
       "      <td>60.05</td>\n",
       "      <td>32780.0</td>\n",
       "      <td>...</td>\n",
       "      <td>0.0</td>\n",
       "      <td>0.0</td>\n",
       "      <td>0.0</td>\n",
       "      <td>0.0</td>\n",
       "      <td>0.0</td>\n",
       "      <td>1.0</td>\n",
       "      <td>0.0</td>\n",
       "      <td>0.0</td>\n",
       "      <td>0.0</td>\n",
       "      <td>0.0</td>\n",
       "    </tr>\n",
       "    <tr>\n",
       "      <th>4</th>\n",
       "      <td>0.0</td>\n",
       "      <td>1.0</td>\n",
       "      <td>0.0</td>\n",
       "      <td>1.0</td>\n",
       "      <td>0.0</td>\n",
       "      <td>1.0</td>\n",
       "      <td>0.0</td>\n",
       "      <td>3.526826e+15</td>\n",
       "      <td>3.19</td>\n",
       "      <td>49632.0</td>\n",
       "      <td>...</td>\n",
       "      <td>0.0</td>\n",
       "      <td>0.0</td>\n",
       "      <td>0.0</td>\n",
       "      <td>0.0</td>\n",
       "      <td>0.0</td>\n",
       "      <td>0.0</td>\n",
       "      <td>0.0</td>\n",
       "      <td>0.0</td>\n",
       "      <td>0.0</td>\n",
       "      <td>1.0</td>\n",
       "    </tr>\n",
       "  </tbody>\n",
       "</table>\n",
       "<p>5 rows × 30 columns</p>\n",
       "</div>"
      ],
      "text/plain": [
       "   hour_night  day_weekend  month_second_half  age_older  age_young  \\\n",
       "0         0.0          1.0                0.0        1.0        0.0   \n",
       "1         0.0          1.0                0.0        0.0        1.0   \n",
       "2         0.0          1.0                0.0        0.0        0.0   \n",
       "3         0.0          1.0                0.0        0.0        0.0   \n",
       "4         0.0          1.0                0.0        1.0        0.0   \n",
       "\n",
       "   Low_Volume_Merchant  High_Volume_Merchant        cc_num    amt      zip  \\\n",
       "0                  0.0                   1.0  2.291164e+15   2.86  29209.0   \n",
       "1                  0.0                   1.0  3.573030e+15  29.84  84002.0   \n",
       "2                  0.0                   1.0  3.598215e+15  41.28  11710.0   \n",
       "3                  0.0                   1.0  3.591920e+15  60.05  32780.0   \n",
       "4                  1.0                   0.0  3.526826e+15   3.19  49632.0   \n",
       "\n",
       "   ...  cat_grocery_pos  cat_health_fitness  cat_home  cat_kids_pets  \\\n",
       "0  ...              0.0                 0.0       0.0            0.0   \n",
       "1  ...              0.0                 0.0       0.0            0.0   \n",
       "2  ...              0.0                 1.0       0.0            0.0   \n",
       "3  ...              0.0                 0.0       0.0            0.0   \n",
       "4  ...              0.0                 0.0       0.0            0.0   \n",
       "\n",
       "   cat_misc_net  cat_misc_pos  cat_personal_care  cat_shopping_net  \\\n",
       "0           0.0           0.0                1.0               0.0   \n",
       "1           0.0           0.0                1.0               0.0   \n",
       "2           0.0           0.0                0.0               0.0   \n",
       "3           0.0           1.0                0.0               0.0   \n",
       "4           0.0           0.0                0.0               0.0   \n",
       "\n",
       "   cat_shopping_pos  cat_travel  \n",
       "0               0.0         0.0  \n",
       "1               0.0         0.0  \n",
       "2               0.0         0.0  \n",
       "3               0.0         0.0  \n",
       "4               0.0         1.0  \n",
       "\n",
       "[5 rows x 30 columns]"
      ]
     },
     "execution_count": 52,
     "metadata": {},
     "output_type": "execute_result"
    }
   ],
   "source": [
    "test_1.head()"
   ]
  },
  {
   "cell_type": "code",
   "execution_count": null,
   "id": "3a68582e-83f5-477c-ba55-f937520ba2ed",
   "metadata": {},
   "outputs": [],
   "source": []
  }
 ],
 "metadata": {
  "kernelspec": {
   "display_name": "Python 3 (ipykernel)",
   "language": "python",
   "name": "python3"
  },
  "language_info": {
   "codemirror_mode": {
    "name": "ipython",
    "version": 3
   },
   "file_extension": ".py",
   "mimetype": "text/x-python",
   "name": "python",
   "nbconvert_exporter": "python",
   "pygments_lexer": "ipython3",
   "version": "3.13.3"
  }
 },
 "nbformat": 4,
 "nbformat_minor": 5
}
